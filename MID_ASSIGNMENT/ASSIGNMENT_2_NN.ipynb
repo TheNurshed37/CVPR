{
  "nbformat": 4,
  "nbformat_minor": 0,
  "metadata": {
    "colab": {
      "provenance": []
    },
    "kernelspec": {
      "name": "python3",
      "display_name": "Python 3"
    },
    "language_info": {
      "name": "python"
    }
  },
  "cells": [
    {
      "cell_type": "markdown",
      "source": [
        "# Setup"
      ],
      "metadata": {
        "id": "9DNLin8JHMXQ"
      }
    },
    {
      "cell_type": "code",
      "execution_count": 61,
      "metadata": {
        "id": "WUKUYjnt0qZG"
      },
      "outputs": [],
      "source": [
        "import numpy as np\n",
        "import matplotlib.pyplot as plt\n",
        "import pandas as pd\n",
        "from sklearn.metrics import accuracy_score, precision_score, recall_score, f1_score, confusion_matrix, roc_curve, auc\n",
        "import seaborn as sns"
      ]
    },
    {
      "cell_type": "markdown",
      "source": [
        "# Read CSV file"
      ],
      "metadata": {
        "id": "xRbzOFCDHYiK"
      }
    },
    {
      "cell_type": "code",
      "source": [
        "df = pd.read_csv('data.csv')\n",
        "print(df.shape)\n",
        "df.head(df.shape[0])"
      ],
      "metadata": {
        "colab": {
          "base_uri": "https://localhost:8080/",
          "height": 441
        },
        "id": "z-I1Sl8k1gsz",
        "outputId": "1ca06e66-e7e3-4d04-d2bb-1a8a97ec7cc8"
      },
      "execution_count": 62,
      "outputs": [
        {
          "output_type": "stream",
          "name": "stdout",
          "text": [
            "(500, 3)\n"
          ]
        },
        {
          "output_type": "execute_result",
          "data": {
            "text/plain": [
              "      X1   X2  Y\n",
              "0    340  485  0\n",
              "1    440  399  0\n",
              "2    216  164  1\n",
              "3    498   58  0\n",
              "4    498   12  0\n",
              "..   ...  ... ..\n",
              "495  112   15  2\n",
              "496  359  384  0\n",
              "497  253  124  1\n",
              "498  349  215  0\n",
              "499  222  311  0\n",
              "\n",
              "[500 rows x 3 columns]"
            ],
            "text/html": [
              "\n",
              "  <div id=\"df-339d4337-0b9c-42a9-8ccd-571e092d4404\" class=\"colab-df-container\">\n",
              "    <div>\n",
              "<style scoped>\n",
              "    .dataframe tbody tr th:only-of-type {\n",
              "        vertical-align: middle;\n",
              "    }\n",
              "\n",
              "    .dataframe tbody tr th {\n",
              "        vertical-align: top;\n",
              "    }\n",
              "\n",
              "    .dataframe thead th {\n",
              "        text-align: right;\n",
              "    }\n",
              "</style>\n",
              "<table border=\"1\" class=\"dataframe\">\n",
              "  <thead>\n",
              "    <tr style=\"text-align: right;\">\n",
              "      <th></th>\n",
              "      <th>X1</th>\n",
              "      <th>X2</th>\n",
              "      <th>Y</th>\n",
              "    </tr>\n",
              "  </thead>\n",
              "  <tbody>\n",
              "    <tr>\n",
              "      <th>0</th>\n",
              "      <td>340</td>\n",
              "      <td>485</td>\n",
              "      <td>0</td>\n",
              "    </tr>\n",
              "    <tr>\n",
              "      <th>1</th>\n",
              "      <td>440</td>\n",
              "      <td>399</td>\n",
              "      <td>0</td>\n",
              "    </tr>\n",
              "    <tr>\n",
              "      <th>2</th>\n",
              "      <td>216</td>\n",
              "      <td>164</td>\n",
              "      <td>1</td>\n",
              "    </tr>\n",
              "    <tr>\n",
              "      <th>3</th>\n",
              "      <td>498</td>\n",
              "      <td>58</td>\n",
              "      <td>0</td>\n",
              "    </tr>\n",
              "    <tr>\n",
              "      <th>4</th>\n",
              "      <td>498</td>\n",
              "      <td>12</td>\n",
              "      <td>0</td>\n",
              "    </tr>\n",
              "    <tr>\n",
              "      <th>...</th>\n",
              "      <td>...</td>\n",
              "      <td>...</td>\n",
              "      <td>...</td>\n",
              "    </tr>\n",
              "    <tr>\n",
              "      <th>495</th>\n",
              "      <td>112</td>\n",
              "      <td>15</td>\n",
              "      <td>2</td>\n",
              "    </tr>\n",
              "    <tr>\n",
              "      <th>496</th>\n",
              "      <td>359</td>\n",
              "      <td>384</td>\n",
              "      <td>0</td>\n",
              "    </tr>\n",
              "    <tr>\n",
              "      <th>497</th>\n",
              "      <td>253</td>\n",
              "      <td>124</td>\n",
              "      <td>1</td>\n",
              "    </tr>\n",
              "    <tr>\n",
              "      <th>498</th>\n",
              "      <td>349</td>\n",
              "      <td>215</td>\n",
              "      <td>0</td>\n",
              "    </tr>\n",
              "    <tr>\n",
              "      <th>499</th>\n",
              "      <td>222</td>\n",
              "      <td>311</td>\n",
              "      <td>0</td>\n",
              "    </tr>\n",
              "  </tbody>\n",
              "</table>\n",
              "<p>500 rows × 3 columns</p>\n",
              "</div>\n",
              "    <div class=\"colab-df-buttons\">\n",
              "\n",
              "  <div class=\"colab-df-container\">\n",
              "    <button class=\"colab-df-convert\" onclick=\"convertToInteractive('df-339d4337-0b9c-42a9-8ccd-571e092d4404')\"\n",
              "            title=\"Convert this dataframe to an interactive table.\"\n",
              "            style=\"display:none;\">\n",
              "\n",
              "  <svg xmlns=\"http://www.w3.org/2000/svg\" height=\"24px\" viewBox=\"0 -960 960 960\">\n",
              "    <path d=\"M120-120v-720h720v720H120Zm60-500h600v-160H180v160Zm220 220h160v-160H400v160Zm0 220h160v-160H400v160ZM180-400h160v-160H180v160Zm440 0h160v-160H620v160ZM180-180h160v-160H180v160Zm440 0h160v-160H620v160Z\"/>\n",
              "  </svg>\n",
              "    </button>\n",
              "\n",
              "  <style>\n",
              "    .colab-df-container {\n",
              "      display:flex;\n",
              "      gap: 12px;\n",
              "    }\n",
              "\n",
              "    .colab-df-convert {\n",
              "      background-color: #E8F0FE;\n",
              "      border: none;\n",
              "      border-radius: 50%;\n",
              "      cursor: pointer;\n",
              "      display: none;\n",
              "      fill: #1967D2;\n",
              "      height: 32px;\n",
              "      padding: 0 0 0 0;\n",
              "      width: 32px;\n",
              "    }\n",
              "\n",
              "    .colab-df-convert:hover {\n",
              "      background-color: #E2EBFA;\n",
              "      box-shadow: 0px 1px 2px rgba(60, 64, 67, 0.3), 0px 1px 3px 1px rgba(60, 64, 67, 0.15);\n",
              "      fill: #174EA6;\n",
              "    }\n",
              "\n",
              "    .colab-df-buttons div {\n",
              "      margin-bottom: 4px;\n",
              "    }\n",
              "\n",
              "    [theme=dark] .colab-df-convert {\n",
              "      background-color: #3B4455;\n",
              "      fill: #D2E3FC;\n",
              "    }\n",
              "\n",
              "    [theme=dark] .colab-df-convert:hover {\n",
              "      background-color: #434B5C;\n",
              "      box-shadow: 0px 1px 3px 1px rgba(0, 0, 0, 0.15);\n",
              "      filter: drop-shadow(0px 1px 2px rgba(0, 0, 0, 0.3));\n",
              "      fill: #FFFFFF;\n",
              "    }\n",
              "  </style>\n",
              "\n",
              "    <script>\n",
              "      const buttonEl =\n",
              "        document.querySelector('#df-339d4337-0b9c-42a9-8ccd-571e092d4404 button.colab-df-convert');\n",
              "      buttonEl.style.display =\n",
              "        google.colab.kernel.accessAllowed ? 'block' : 'none';\n",
              "\n",
              "      async function convertToInteractive(key) {\n",
              "        const element = document.querySelector('#df-339d4337-0b9c-42a9-8ccd-571e092d4404');\n",
              "        const dataTable =\n",
              "          await google.colab.kernel.invokeFunction('convertToInteractive',\n",
              "                                                    [key], {});\n",
              "        if (!dataTable) return;\n",
              "\n",
              "        const docLinkHtml = 'Like what you see? Visit the ' +\n",
              "          '<a target=\"_blank\" href=https://colab.research.google.com/notebooks/data_table.ipynb>data table notebook</a>'\n",
              "          + ' to learn more about interactive tables.';\n",
              "        element.innerHTML = '';\n",
              "        dataTable['output_type'] = 'display_data';\n",
              "        await google.colab.output.renderOutput(dataTable, element);\n",
              "        const docLink = document.createElement('div');\n",
              "        docLink.innerHTML = docLinkHtml;\n",
              "        element.appendChild(docLink);\n",
              "      }\n",
              "    </script>\n",
              "  </div>\n",
              "\n",
              "\n",
              "    <div id=\"df-471440a9-b01d-4751-b3ed-cbc2ceaf2f54\">\n",
              "      <button class=\"colab-df-quickchart\" onclick=\"quickchart('df-471440a9-b01d-4751-b3ed-cbc2ceaf2f54')\"\n",
              "                title=\"Suggest charts\"\n",
              "                style=\"display:none;\">\n",
              "\n",
              "<svg xmlns=\"http://www.w3.org/2000/svg\" height=\"24px\"viewBox=\"0 0 24 24\"\n",
              "     width=\"24px\">\n",
              "    <g>\n",
              "        <path d=\"M19 3H5c-1.1 0-2 .9-2 2v14c0 1.1.9 2 2 2h14c1.1 0 2-.9 2-2V5c0-1.1-.9-2-2-2zM9 17H7v-7h2v7zm4 0h-2V7h2v10zm4 0h-2v-4h2v4z\"/>\n",
              "    </g>\n",
              "</svg>\n",
              "      </button>\n",
              "\n",
              "<style>\n",
              "  .colab-df-quickchart {\n",
              "      --bg-color: #E8F0FE;\n",
              "      --fill-color: #1967D2;\n",
              "      --hover-bg-color: #E2EBFA;\n",
              "      --hover-fill-color: #174EA6;\n",
              "      --disabled-fill-color: #AAA;\n",
              "      --disabled-bg-color: #DDD;\n",
              "  }\n",
              "\n",
              "  [theme=dark] .colab-df-quickchart {\n",
              "      --bg-color: #3B4455;\n",
              "      --fill-color: #D2E3FC;\n",
              "      --hover-bg-color: #434B5C;\n",
              "      --hover-fill-color: #FFFFFF;\n",
              "      --disabled-bg-color: #3B4455;\n",
              "      --disabled-fill-color: #666;\n",
              "  }\n",
              "\n",
              "  .colab-df-quickchart {\n",
              "    background-color: var(--bg-color);\n",
              "    border: none;\n",
              "    border-radius: 50%;\n",
              "    cursor: pointer;\n",
              "    display: none;\n",
              "    fill: var(--fill-color);\n",
              "    height: 32px;\n",
              "    padding: 0;\n",
              "    width: 32px;\n",
              "  }\n",
              "\n",
              "  .colab-df-quickchart:hover {\n",
              "    background-color: var(--hover-bg-color);\n",
              "    box-shadow: 0 1px 2px rgba(60, 64, 67, 0.3), 0 1px 3px 1px rgba(60, 64, 67, 0.15);\n",
              "    fill: var(--button-hover-fill-color);\n",
              "  }\n",
              "\n",
              "  .colab-df-quickchart-complete:disabled,\n",
              "  .colab-df-quickchart-complete:disabled:hover {\n",
              "    background-color: var(--disabled-bg-color);\n",
              "    fill: var(--disabled-fill-color);\n",
              "    box-shadow: none;\n",
              "  }\n",
              "\n",
              "  .colab-df-spinner {\n",
              "    border: 2px solid var(--fill-color);\n",
              "    border-color: transparent;\n",
              "    border-bottom-color: var(--fill-color);\n",
              "    animation:\n",
              "      spin 1s steps(1) infinite;\n",
              "  }\n",
              "\n",
              "  @keyframes spin {\n",
              "    0% {\n",
              "      border-color: transparent;\n",
              "      border-bottom-color: var(--fill-color);\n",
              "      border-left-color: var(--fill-color);\n",
              "    }\n",
              "    20% {\n",
              "      border-color: transparent;\n",
              "      border-left-color: var(--fill-color);\n",
              "      border-top-color: var(--fill-color);\n",
              "    }\n",
              "    30% {\n",
              "      border-color: transparent;\n",
              "      border-left-color: var(--fill-color);\n",
              "      border-top-color: var(--fill-color);\n",
              "      border-right-color: var(--fill-color);\n",
              "    }\n",
              "    40% {\n",
              "      border-color: transparent;\n",
              "      border-right-color: var(--fill-color);\n",
              "      border-top-color: var(--fill-color);\n",
              "    }\n",
              "    60% {\n",
              "      border-color: transparent;\n",
              "      border-right-color: var(--fill-color);\n",
              "    }\n",
              "    80% {\n",
              "      border-color: transparent;\n",
              "      border-right-color: var(--fill-color);\n",
              "      border-bottom-color: var(--fill-color);\n",
              "    }\n",
              "    90% {\n",
              "      border-color: transparent;\n",
              "      border-bottom-color: var(--fill-color);\n",
              "    }\n",
              "  }\n",
              "</style>\n",
              "\n",
              "      <script>\n",
              "        async function quickchart(key) {\n",
              "          const quickchartButtonEl =\n",
              "            document.querySelector('#' + key + ' button');\n",
              "          quickchartButtonEl.disabled = true;  // To prevent multiple clicks.\n",
              "          quickchartButtonEl.classList.add('colab-df-spinner');\n",
              "          try {\n",
              "            const charts = await google.colab.kernel.invokeFunction(\n",
              "                'suggestCharts', [key], {});\n",
              "          } catch (error) {\n",
              "            console.error('Error during call to suggestCharts:', error);\n",
              "          }\n",
              "          quickchartButtonEl.classList.remove('colab-df-spinner');\n",
              "          quickchartButtonEl.classList.add('colab-df-quickchart-complete');\n",
              "        }\n",
              "        (() => {\n",
              "          let quickchartButtonEl =\n",
              "            document.querySelector('#df-471440a9-b01d-4751-b3ed-cbc2ceaf2f54 button');\n",
              "          quickchartButtonEl.style.display =\n",
              "            google.colab.kernel.accessAllowed ? 'block' : 'none';\n",
              "        })();\n",
              "      </script>\n",
              "    </div>\n",
              "\n",
              "    </div>\n",
              "  </div>\n"
            ],
            "application/vnd.google.colaboratory.intrinsic+json": {
              "type": "dataframe",
              "variable_name": "df",
              "summary": "{\n  \"name\": \"df\",\n  \"rows\": 500,\n  \"fields\": [\n    {\n      \"column\": \"X1\",\n      \"properties\": {\n        \"dtype\": \"number\",\n        \"std\": 142,\n        \"min\": 2,\n        \"max\": 499,\n        \"num_unique_values\": 323,\n        \"samples\": [\n          382,\n          329,\n          435\n        ],\n        \"semantic_type\": \"\",\n        \"description\": \"\"\n      }\n    },\n    {\n      \"column\": \"X2\",\n      \"properties\": {\n        \"dtype\": \"number\",\n        \"std\": 145,\n        \"min\": 1,\n        \"max\": 499,\n        \"num_unique_values\": 329,\n        \"samples\": [\n          318,\n          113,\n          367\n        ],\n        \"semantic_type\": \"\",\n        \"description\": \"\"\n      }\n    },\n    {\n      \"column\": \"Y\",\n      \"properties\": {\n        \"dtype\": \"number\",\n        \"std\": 1,\n        \"min\": 0,\n        \"max\": 4,\n        \"num_unique_values\": 5,\n        \"samples\": [\n          1,\n          4,\n          3\n        ],\n        \"semantic_type\": \"\",\n        \"description\": \"\"\n      }\n    }\n  ]\n}"
            }
          },
          "metadata": {},
          "execution_count": 62
        }
      ]
    },
    {
      "cell_type": "code",
      "source": [
        "# a function for 1-hot encoding the output labels\n",
        "\n",
        "def normalize(input):\n",
        "  if input == 0:\n",
        "    return [1,0,0]\n",
        "  elif input == 1:\n",
        "    return [0,1,0]\n",
        "  elif input == 2:\n",
        "    return [0,0,1]\n",
        "  else:\n",
        "    return [0, 0, 0]"
      ],
      "metadata": {
        "id": "HhNDms5V6RcE"
      },
      "execution_count": 63,
      "outputs": []
    },
    {
      "cell_type": "code",
      "source": [
        "X1 = df[\"X1\"].values.tolist()\n",
        "X2 = df[\"X2\"].values.tolist()\n",
        "Y = df[\"Y\"].values.tolist()"
      ],
      "metadata": {
        "id": "SE6NsBgX6XKt"
      },
      "execution_count": 64,
      "outputs": []
    },
    {
      "cell_type": "code",
      "source": [
        "plt.figure(figsize=(8,10))\n",
        "\n",
        "# Convert X1, X2 to NumPy arrays if they aren't already\n",
        "X1 = np.array(X1)\n",
        "X2 = np.array(X2)\n",
        "Y = np.array(Y)\n",
        "\n",
        "plt.scatter(X1[Y==0], X2[Y==0], color='red', marker='+', label='Class 0')\n",
        "plt.scatter(X1[Y==1], X2[Y==1], color='green', marker='.', label='Class 1')\n",
        "plt.scatter(X1[Y==2], X2[Y==2], color='blue', marker='x', label='Class 2')\n",
        "\n",
        "plt.xlabel('X1')\n",
        "plt.ylabel('X2')\n",
        "plt.title('Scatter Plot by Class')\n",
        "plt.legend()\n",
        "plt.grid(True)\n",
        "plt.tight_layout()\n",
        "plt.show()"
      ],
      "metadata": {
        "colab": {
          "base_uri": "https://localhost:8080/",
          "height": 1000
        },
        "id": "7WDG2pxnaY5-",
        "outputId": "cc36021d-f65d-46ed-efe7-53bd73bd15d9"
      },
      "execution_count": 77,
      "outputs": [
        {
          "output_type": "display_data",
          "data": {
            "text/plain": [
              "<Figure size 800x1000 with 1 Axes>"
            ],
            "image/png": "[encoded data removed]"
          },
          "metadata": {}
        }
      ]
    },
    {
      "cell_type": "code",
      "source": [
        "features = list(zip(X1, X2)) #zipping the 2 input features into a list\n",
        "\n",
        "features_np = np.array(features) #converting the list into a numpy array"
      ],
      "metadata": {
        "id": "0gOmkQro61xC"
      },
      "execution_count": 66,
      "outputs": []
    },
    {
      "cell_type": "code",
      "source": [
        " # normalizing the output labels to be one-hot encoded and\n",
        " # turning it into a numpy array\n",
        "\n",
        "Y2 = np.array([normalize(i) for i in Y])"
      ],
      "metadata": {
        "id": "7AceEubR65c_"
      },
      "execution_count": 67,
      "outputs": []
    },
    {
      "cell_type": "code",
      "source": [
        "# dividing the total set into training (300) & testing (100) sets\n",
        "\n",
        "features_train = features_np[:300]\n",
        "Y2_train = Y2[:300]\n",
        "\n",
        "features_test = features_np[300:]\n",
        "Y2_test = Y2[300:]"
      ],
      "metadata": {
        "id": "PKQnXVuJ7Wqk"
      },
      "execution_count": 68,
      "outputs": []
    },
    {
      "cell_type": "markdown",
      "source": [
        "# Neural Network - Training & testing"
      ],
      "metadata": {
        "id": "xCtNFb8z7a1v"
      }
    },
    {
      "cell_type": "code",
      "source": [
        "class NeuralNetwork(object):\n",
        "    def __init__(self, inputLayerNeurons = 2, hidden1LayerNeurons = 20, hidden2LayerNeurons = 20, hidden3LayerNeurons = 20, outLayerNeurons = 3, learning_rate = 0.001, activation_type: str = 'sigmoid'):\n",
        "\n",
        "        self.activation_type = activation_type\n",
        "        self.learning_rate = learning_rate\n",
        "\n",
        "        # random weight initialization\n",
        "        self.W_H1I = np.random.randn(inputLayerNeurons, hidden1LayerNeurons)\n",
        "        self.W_H2H1 = np.random.randn(hidden1LayerNeurons, hidden2LayerNeurons)\n",
        "        self.W_H3H2 = np.random.randn(hidden2LayerNeurons, hidden3LayerNeurons)\n",
        "        self.W_OH3 = np.random.randn(hidden3LayerNeurons, outLayerNeurons)\n",
        "\n",
        "        # random bias initialization\n",
        "        self.biases = [\n",
        "            np.random.randn(hidden1LayerNeurons),\n",
        "            np.random.randn(hidden2LayerNeurons),\n",
        "            np.random.randn(hidden3LayerNeurons),\n",
        "            np.random.randn(outLayerNeurons)\n",
        "        ]\n",
        "\n",
        "    def activation(self, x, der=False):\n",
        "        if self.activation_type == 'sigmoid':\n",
        "            if der == True:\n",
        "                return np.exp(-x) / (1 + np.exp(-x))**2 # return x * (1-x)\n",
        "            else:\n",
        "                return 1 / (1 + np.exp(-x)) # 1 / (1 + e^-x)\n",
        "\n",
        "        if self.activation_type == \"tanh\":\n",
        "            if der == True:\n",
        "                return 1 - (np.tanh(x))**2 # 1 - (tanh(x))^2\n",
        "            else:\n",
        "                return np.tanh(x)\n",
        "\n",
        "        if self.activation_type == \"relu\":\n",
        "            if der == True:\n",
        "                return np.where(x > 0, 1, 0)\n",
        "            else:\n",
        "                return np.maximum(0, x)\n",
        "\n",
        "        if self.activation_type == \"gaussian\":\n",
        "            if der == True:\n",
        "                return -(2 * x * np.exp(-x**2)) # -2xe^(-x^2)\n",
        "            else:\n",
        "                return np.exp(-x**2)  # e^(-x^2)\n",
        "\n",
        "    def feedForward(self, X):\n",
        "        hidden1_input = np.dot(X, self.W_H1I) + self.biases[0]\n",
        "        self.hidden1_output = self.activation(hidden1_input)\n",
        "\n",
        "        hidden2_input = np.dot(self.hidden1_output, self.W_H2H1) + self.biases[1]\n",
        "        self.hidden2_output = self.activation(hidden2_input)\n",
        "\n",
        "        hidden3_input = np.dot(self.hidden2_output, self.W_H3H2) + self.biases[2]\n",
        "        self.hidden3_output = self.activation(hidden3_input)\n",
        "\n",
        "        output_input = np.dot(self.hidden3_output, self.W_OH3) + self.biases[3]\n",
        "        pred = self.activation(output_input)\n",
        "        return pred\n",
        "\n",
        "    def backPropagation(self, X, Y, pred):\n",
        "        output_error = Y - pred\n",
        "        output_delta = self.learning_rate * output_error * self.activation(pred, der=True)\n",
        "\n",
        "        hidden3_error = output_delta.dot(self.W_OH3.T)\n",
        "        hidden3_delta = self.learning_rate * hidden3_error * self.activation(self.hidden3_output, der=True)\n",
        "\n",
        "        hidden2_error = hidden3_delta.dot(self.W_H3H2.T)\n",
        "        hidden2_delta = self.learning_rate * hidden2_error * self.activation(self.hidden2_output, der=True)\n",
        "\n",
        "        hidden1_error = hidden2_delta.dot(self.W_H2H1.T)\n",
        "        hidden1_delta = self.learning_rate * hidden1_error * self.activation(self.hidden1_output, der=True)\n",
        "\n",
        "        self.W_H1I += X.T.dot(hidden1_delta)\n",
        "        self.W_H2H1 += self.hidden1_output.T.dot(hidden2_delta)\n",
        "        self.W_H3H2 += self.hidden2_output.T.dot(hidden3_delta)\n",
        "        self.W_OH3 += self.hidden3_output.T.dot(output_delta)\n",
        "\n",
        "        self.biases[0] += self.learning_rate * np.sum(hidden1_delta, axis=0)\n",
        "        self.biases[1] += self.learning_rate * np.sum(hidden2_delta, axis=0)\n",
        "        self.biases[2] += self.learning_rate * np.sum(hidden3_delta, axis=0)\n",
        "        self.biases[3] += self.learning_rate * np.sum(output_delta, axis=0)\n",
        "\n",
        "    def train(self, X, Y):\n",
        "        output = self.feedForward(X)\n",
        "        self.backPropagation(X,Y,output)\n"
      ],
      "metadata": {
        "id": "KlrYyXDK_Xsz"
      },
      "execution_count": 69,
      "outputs": []
    },
    {
      "cell_type": "code",
      "source": [
        "NN = NeuralNetwork(activation_type = 'sigmoid')\n",
        "#NN = NeuralNetwork(activation_type ='tanh')\n",
        "#NN = NeuralNetwork(activation_type = 'gaussian')\n",
        "#NN = NeuralNetwork(activation_type = 'relu')\n",
        "\n",
        "err_list = []\n",
        "\n",
        "for i in range(100000):\n",
        "    NN.train(features_train,Y2_train)\n",
        "    err = np.mean(np.square(Y2_train - NN.feedForward(features_train)))\n",
        "\n",
        "    if i % 10000 == 0:\n",
        "      err_list.append(err)\n",
        "      print(f'Epoch: {i}, error: {err}')\n",
        "\n",
        "plt.plot(err_list)\n",
        "plt.show()"
      ],
      "metadata": {
        "colab": {
          "base_uri": "https://localhost:8080/",
          "height": 638
        },
        "id": "CQ8xkzyF_qFn",
        "outputId": "fd3e833e-59a6-41c3-c076-c55d37d785bd"
      },
      "execution_count": 70,
      "outputs": [
        {
          "output_type": "stream",
          "name": "stderr",
          "text": [
            "<ipython-input-69-6b343e2154c6>:26: RuntimeWarning: overflow encountered in exp\n",
            "  return 1 / (1 + np.exp(-x)) # 1 / (1 + e^-x)\n"
          ]
        },
        {
          "output_type": "stream",
          "name": "stdout",
          "text": [
            "Epoch: 0, error: 0.15158595011407927\n",
            "Epoch: 10000, error: 0.1384825256159866\n",
            "Epoch: 20000, error: 0.13794803144704643\n",
            "Epoch: 30000, error: 0.13776086823242872\n",
            "Epoch: 40000, error: 0.13767628070253182\n",
            "Epoch: 50000, error: 0.13762897681515043\n",
            "Epoch: 60000, error: 0.13759700915503434\n",
            "Epoch: 70000, error: 0.13757197189807366\n",
            "Epoch: 80000, error: 0.13755033546323947\n",
            "Epoch: 90000, error: 0.13753050614485535\n"
          ]
        },
        {
          "output_type": "display_data",
          "data": {
            "text/plain": [
              "<Figure size 640x480 with 1 Axes>"
            ],
            "image/png": "[encoded data removed]"
          },
          "metadata": {}
        }
      ]
    },
    {
      "cell_type": "code",
      "source": [
        "# stores a dict with the probability of each class with its class name\n",
        "\n",
        "def getProb(pred):\n",
        "    return {f'Class-{index}': p*100 for index, p in enumerate(pred)}"
      ],
      "metadata": {
        "id": "ggAKu4JpArFj"
      },
      "execution_count": 71,
      "outputs": []
    },
    {
      "cell_type": "code",
      "source": [
        "# returns the dict key with the highest probablity\n",
        "\n",
        "def getClass(dict):\n",
        "  max_key = max(dict, key=dict.get)\n",
        "  return (max_key)"
      ],
      "metadata": {
        "id": "mWRxpwzuAttO"
      },
      "execution_count": 72,
      "outputs": []
    },
    {
      "cell_type": "code",
      "source": [
        "# testing a random input\n",
        "\n",
        "pred = NN.feedForward([75,-33])\n",
        "print(pred)\n",
        "print(getProb(pred))\n",
        "print(getClass(getProb(pred)))\n"
      ],
      "metadata": {
        "colab": {
          "base_uri": "https://localhost:8080/"
        },
        "id": "mxGD2dzEAxGc",
        "outputId": "29cb3e19-5989-47d8-84dd-f80a170be424"
      },
      "execution_count": 73,
      "outputs": [
        {
          "output_type": "stream",
          "name": "stdout",
          "text": [
            "[0.54799659 0.18070028 0.0354479 ]\n",
            "{'Class-0': np.float64(54.799658977640455), 'Class-1': np.float64(18.070027683770064), 'Class-2': np.float64(3.5447896405815085)}\n",
            "Class-0\n"
          ]
        }
      ]
    },
    {
      "cell_type": "markdown",
      "source": [
        "#Performance Metrics"
      ],
      "metadata": {
        "id": "HgFtJVKfAzps"
      }
    },
    {
      "cell_type": "code",
      "source": [
        "predictions = NN.feedForward(features_test)\n",
        "#print(f\"Predictions: {predictions}\")\n",
        "\n",
        "# Calculate recall and F1 score\n",
        "Y_true = np.argmax(Y2_test, axis=1)\n",
        "Y_pred = np.argmax(predictions, axis=1)\n",
        "\n",
        "accuracy = accuracy_score(Y_true, Y_pred)\n",
        "print(f\"Overall Accuracy: {accuracy}\")\n",
        "\n",
        "precision = precision_score(Y_true, Y_pred, average=None)\n",
        "print(\"Precision for each class:\")\n",
        "for i, score in enumerate(precision):\n",
        "    print(f\"Class {i}: {score}\")\n",
        "\n",
        "recall = recall_score(Y_true, Y_pred, average='macro')\n",
        "print(f\"Recall: {recall}\")\n",
        "\n",
        "f1 = f1_score(Y_true, Y_pred, average='macro')\n",
        "print(f\"F1 Score overall: {f1}\")"
      ],
      "metadata": {
        "colab": {
          "base_uri": "https://localhost:8080/"
        },
        "id": "Qh17DOk4A1uh",
        "outputId": "c5cda719-21cc-4609-96bd-ef8005541ecf"
      },
      "execution_count": 74,
      "outputs": [
        {
          "output_type": "stream",
          "name": "stdout",
          "text": [
            "Overall Accuracy: 0.805\n",
            "Precision for each class:\n",
            "Class 0: 0.805\n",
            "Class 1: 0.0\n",
            "Class 2: 0.0\n",
            "Recall: 0.3333333333333333\n",
            "F1 Score overall: 0.29732225300092335\n"
          ]
        },
        {
          "output_type": "stream",
          "name": "stderr",
          "text": [
            "<ipython-input-69-6b343e2154c6>:26: RuntimeWarning: overflow encountered in exp\n",
            "  return 1 / (1 + np.exp(-x)) # 1 / (1 + e^-x)\n",
            "/usr/local/lib/python3.11/dist-packages/sklearn/metrics/_classification.py:1565: UndefinedMetricWarning: Precision is ill-defined and being set to 0.0 in labels with no predicted samples. Use `zero_division` parameter to control this behavior.\n",
            "  _warn_prf(average, modifier, f\"{metric.capitalize()} is\", len(result))\n"
          ]
        }
      ]
    },
    {
      "cell_type": "code",
      "source": [
        "# f1 score fr each class\n",
        "\n",
        "f1_scores = f1_score(Y_true, Y_pred, average=None)\n",
        "\n",
        "print(\"F1 Scores for each class:\")\n",
        "for i, score in enumerate(f1_scores):\n",
        "    print(f\"Class {i}: {score}\")"
      ],
      "metadata": {
        "colab": {
          "base_uri": "https://localhost:8080/"
        },
        "id": "eSxJWdO3A5dk",
        "outputId": "3a6fbd94-1447-4189-a2bc-a7ec4c39312c"
      },
      "execution_count": 75,
      "outputs": [
        {
          "output_type": "stream",
          "name": "stdout",
          "text": [
            "F1 Scores for each class:\n",
            "Class 0: 0.8919667590027701\n",
            "Class 1: 0.0\n",
            "Class 2: 0.0\n"
          ]
        }
      ]
    },
    {
      "cell_type": "markdown",
      "source": [
        "#Documentation"
      ],
      "metadata": {
        "id": "TXJ_XsdkBMPj"
      }
    },
    {
      "cell_type": "markdown",
      "source": [
        "**Output Layer Modification:**\n",
        "The outLayerNeurons value was changed from 1 to 3 to accommodate classification across 5 separate classes using a one-hot encoded output representation.\n",
        "\n",
        "**Additional Hidden Layers:**\n",
        "Two new variables were introduced to define the structure of the deeper architecture:\n",
        "\n",
        "\n",
        "\n",
        "* **hidden2LayerNeurons:** Number of neurons in the second hidden layer (set to 20).\n",
        "*  **hidden3LayerNeurons:** Number of neurons in the third hidden layer (set to 20).\n",
        "\n",
        "\n",
        "\n",
        "**Extended Weight Matrices:**\n",
        "To support the expanded depth, two additional weight matrices were defined:\n",
        "\n",
        "\n",
        "* **W_H2H1:** Weights connecting Hidden Layer 1 to Hidden Layer 2.\n",
        "\n",
        "* **W_H3H2:** Weights connecting Hidden Layer 2 to Hidden Layer 3.\n",
        "\n",
        "**Bias Handling with List Structure:**\n",
        "A biases list was constructed, where each element contains the bias vector corresponding to each layer (Hidden1, Hidden2, Hidden3, Output). This allows bias management aligned with the number of neurons in each layer."
      ],
      "metadata": {
        "id": "hjePkspfBSAq"
      }
    }
  ]
}